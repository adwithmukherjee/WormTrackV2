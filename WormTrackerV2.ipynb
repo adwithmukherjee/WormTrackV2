{
  "nbformat": 4,
  "nbformat_minor": 0,
  "metadata": {
    "colab": {
      "name": "WormTrackerV2.ipynb",
      "provenance": [],
      "mount_file_id": "1JGMc-_phb1unBHk_Mu4862LX-a_4kjXZ",
      "authorship_tag": "ABX9TyMqKsJtE8pw24W1pRCt95iS",
      "include_colab_link": true
    },
    "kernelspec": {
      "name": "python3",
      "display_name": "Python 3"
    },
    "language_info": {
      "name": "python"
    }
  },
  "cells": [
    {
      "cell_type": "markdown",
      "metadata": {
        "id": "view-in-github",
        "colab_type": "text"
      },
      "source": [
        "<a href=\"https://colab.research.google.com/github/jgak12/WormTrackV2/blob/main/WormTrackerV2.ipynb\" target=\"_parent\"><img src=\"https://colab.research.google.com/assets/colab-badge.svg\" alt=\"Open In Colab\"/></a>"
      ]
    },
    {
      "cell_type": "markdown",
      "source": [
        "WORM TRACKER"
      ],
      "metadata": {
        "id": "eAlGCrWHBSQ-"
      }
    },
    {
      "cell_type": "markdown",
      "source": [
        "TO DO:\n",
        "\n",
        "* pull small format images from large images based on difference tracked location (done)\n",
        "* Find a way to relabel all images in the img file so they can be marked which have worms and which dont (kindof done?)\n",
        "* If time, write quick file relabeling program that gives all files numbered sequence (done\n",
        "* Write function that turns video into series of .jpg with ordered filenames\n",
        "* Make user-interface to select intitial worm positions/#worms\n",
        "* UI to select desired outputs\n",
        "* UI to select type of experiment\n"
      ],
      "metadata": {
        "id": "QTsNmevRXlp9"
      }
    },
    {
      "cell_type": "code",
      "source": [
        "!pip install -U -q PyDrive\n",
        "from pydrive.auth import GoogleAuth\n",
        "from pydrive.drive import GoogleDrive\n",
        "from google.colab import auth\n",
        "from oauth2client.client import GoogleCredentials\n",
        "# Authenticate and create the PyDrive client.\n",
        "# This only needs to be done once per notebook. Use your UPR account \n",
        "auth.authenticate_user()\n",
        "gauth = GoogleAuth()\n",
        "gauth.credentials = GoogleCredentials.get_application_default()\n",
        "drive = GoogleDrive(gauth)"
      ],
      "metadata": {
        "id": "wRUVp-X_BemI"
      },
      "execution_count": null,
      "outputs": []
    },
    {
      "cell_type": "code",
      "source": [
        "def loadFromDrive(file_id, local_name):\n",
        "  downloaded = drive.CreateFile({'id': file_id})\n",
        "  downloaded.GetContentFile(local_name)"
      ],
      "metadata": {
        "id": "SbZ5rE2QB-io"
      },
      "execution_count": null,
      "outputs": []
    },
    {
      "cell_type": "markdown",
      "source": [
        "Read Data\n"
      ],
      "metadata": {
        "id": "eIvbGi0DD5s1"
      }
    },
    {
      "cell_type": "markdown",
      "source": [
        "Forget that noise, I'm trying from scratch\n"
      ],
      "metadata": {
        "id": "eyFNQ8_AFXAg"
      }
    },
    {
      "cell_type": "code",
      "source": [
        "\n",
        "###install protobuf somehow\n",
        "\n",
        "\n",
        "import tensorflow as tf\n",
        "\n",
        "!pip install -U -q PyDrive\n",
        "from pydrive.auth import GoogleAuth\n",
        "from pydrive.drive import GoogleDrive\n",
        "from google.colab import auth\n",
        "from oauth2client.client import GoogleCredentials\n",
        "# Authenticate and create the PyDrive client.\n",
        "# This only needs to be done once per notebook. Use your UPR account \n",
        "auth.authenticate_user()\n",
        "gauth = GoogleAuth()\n",
        "gauth.credentials = GoogleCredentials.get_application_default()\n",
        "drive = GoogleDrive(gauth)\n",
        "\n",
        "#!pip install pycocotools\n",
        "#!git clone https://github.com/tensorflow/models"
      ],
      "metadata": {
        "id": "4zv9j9KdFbj_",
        "colab": {
          "base_uri": "https://localhost:8080/"
        },
        "outputId": "8bf095cf-acef-49fa-d4ab-daea1fbb2b39"
      },
      "execution_count": null,
      "outputs": [
        {
          "output_type": "stream",
          "name": "stdout",
          "text": [
            "Requirement already satisfied: pycocotools in /usr/local/lib/python3.7/dist-packages (2.0.4)\n",
            "Requirement already satisfied: numpy in /usr/local/lib/python3.7/dist-packages (from pycocotools) (1.21.6)\n",
            "Requirement already satisfied: matplotlib>=2.1.0 in /usr/local/lib/python3.7/dist-packages (from pycocotools) (3.2.2)\n",
            "Requirement already satisfied: python-dateutil>=2.1 in /usr/local/lib/python3.7/dist-packages (from matplotlib>=2.1.0->pycocotools) (2.8.2)\n",
            "Requirement already satisfied: cycler>=0.10 in /usr/local/lib/python3.7/dist-packages (from matplotlib>=2.1.0->pycocotools) (0.11.0)\n",
            "Requirement already satisfied: kiwisolver>=1.0.1 in /usr/local/lib/python3.7/dist-packages (from matplotlib>=2.1.0->pycocotools) (1.4.2)\n",
            "Requirement already satisfied: pyparsing!=2.0.4,!=2.1.2,!=2.1.6,>=2.0.1 in /usr/local/lib/python3.7/dist-packages (from matplotlib>=2.1.0->pycocotools) (3.0.8)\n",
            "Requirement already satisfied: typing-extensions in /usr/local/lib/python3.7/dist-packages (from kiwisolver>=1.0.1->matplotlib>=2.1.0->pycocotools) (4.1.1)\n",
            "Requirement already satisfied: six>=1.5 in /usr/local/lib/python3.7/dist-packages (from python-dateutil>=2.1->matplotlib>=2.1.0->pycocotools) (1.15.0)\n",
            "Cloning into 'models'...\n",
            "remote: Enumerating objects: 72168, done.\u001b[K\n",
            "^C\n"
          ]
        }
      ]
    },
    {
      "cell_type": "code",
      "source": [
        "from google.colab import drive\n",
        "drive.mount('/content/drive')"
      ],
      "metadata": {
        "id": "esEx5cVFPhTJ",
        "colab": {
          "base_uri": "https://localhost:8080/",
          "height": 328
        },
        "outputId": "cc87ac7a-dded-4e85-c665-4eca2622fb1c"
      },
      "execution_count": null,
      "outputs": [
        {
          "output_type": "error",
          "ename": "MessageError",
          "evalue": "ignored",
          "traceback": [
            "\u001b[0;31m---------------------------------------------------------------------------\u001b[0m",
            "\u001b[0;31mMessageError\u001b[0m                              Traceback (most recent call last)",
            "\u001b[0;32m<ipython-input-8-d5df0069828e>\u001b[0m in \u001b[0;36m<module>\u001b[0;34m()\u001b[0m\n\u001b[1;32m      1\u001b[0m \u001b[0;32mfrom\u001b[0m \u001b[0mgoogle\u001b[0m\u001b[0;34m.\u001b[0m\u001b[0mcolab\u001b[0m \u001b[0;32mimport\u001b[0m \u001b[0mdrive\u001b[0m\u001b[0;34m\u001b[0m\u001b[0;34m\u001b[0m\u001b[0m\n\u001b[0;32m----> 2\u001b[0;31m \u001b[0mdrive\u001b[0m\u001b[0;34m.\u001b[0m\u001b[0mmount\u001b[0m\u001b[0;34m(\u001b[0m\u001b[0;34m'/content/drive'\u001b[0m\u001b[0;34m)\u001b[0m\u001b[0;34m\u001b[0m\u001b[0;34m\u001b[0m\u001b[0m\n\u001b[0m",
            "\u001b[0;32m/usr/local/lib/python3.7/dist-packages/google/colab/drive.py\u001b[0m in \u001b[0;36mmount\u001b[0;34m(mountpoint, force_remount, timeout_ms)\u001b[0m\n\u001b[1;32m    107\u001b[0m       \u001b[0mforce_remount\u001b[0m\u001b[0;34m=\u001b[0m\u001b[0mforce_remount\u001b[0m\u001b[0;34m,\u001b[0m\u001b[0;34m\u001b[0m\u001b[0;34m\u001b[0m\u001b[0m\n\u001b[1;32m    108\u001b[0m       \u001b[0mtimeout_ms\u001b[0m\u001b[0;34m=\u001b[0m\u001b[0mtimeout_ms\u001b[0m\u001b[0;34m,\u001b[0m\u001b[0;34m\u001b[0m\u001b[0;34m\u001b[0m\u001b[0m\n\u001b[0;32m--> 109\u001b[0;31m       ephemeral=True)\n\u001b[0m\u001b[1;32m    110\u001b[0m \u001b[0;34m\u001b[0m\u001b[0m\n\u001b[1;32m    111\u001b[0m \u001b[0;34m\u001b[0m\u001b[0m\n",
            "\u001b[0;32m/usr/local/lib/python3.7/dist-packages/google/colab/drive.py\u001b[0m in \u001b[0;36m_mount\u001b[0;34m(mountpoint, force_remount, timeout_ms, ephemeral)\u001b[0m\n\u001b[1;32m    126\u001b[0m   \u001b[0;32mif\u001b[0m \u001b[0mephemeral\u001b[0m\u001b[0;34m:\u001b[0m\u001b[0;34m\u001b[0m\u001b[0;34m\u001b[0m\u001b[0m\n\u001b[1;32m    127\u001b[0m     _message.blocking_request(\n\u001b[0;32m--> 128\u001b[0;31m         'request_auth', request={'authType': 'dfs_ephemeral'}, timeout_sec=None)\n\u001b[0m\u001b[1;32m    129\u001b[0m \u001b[0;34m\u001b[0m\u001b[0m\n\u001b[1;32m    130\u001b[0m   \u001b[0mmountpoint\u001b[0m \u001b[0;34m=\u001b[0m \u001b[0m_os\u001b[0m\u001b[0;34m.\u001b[0m\u001b[0mpath\u001b[0m\u001b[0;34m.\u001b[0m\u001b[0mexpanduser\u001b[0m\u001b[0;34m(\u001b[0m\u001b[0mmountpoint\u001b[0m\u001b[0;34m)\u001b[0m\u001b[0;34m\u001b[0m\u001b[0;34m\u001b[0m\u001b[0m\n",
            "\u001b[0;32m/usr/local/lib/python3.7/dist-packages/google/colab/_message.py\u001b[0m in \u001b[0;36mblocking_request\u001b[0;34m(request_type, request, timeout_sec, parent)\u001b[0m\n\u001b[1;32m    173\u001b[0m   request_id = send_request(\n\u001b[1;32m    174\u001b[0m       request_type, request, parent=parent, expect_reply=True)\n\u001b[0;32m--> 175\u001b[0;31m   \u001b[0;32mreturn\u001b[0m \u001b[0mread_reply_from_input\u001b[0m\u001b[0;34m(\u001b[0m\u001b[0mrequest_id\u001b[0m\u001b[0;34m,\u001b[0m \u001b[0mtimeout_sec\u001b[0m\u001b[0;34m)\u001b[0m\u001b[0;34m\u001b[0m\u001b[0;34m\u001b[0m\u001b[0m\n\u001b[0m",
            "\u001b[0;32m/usr/local/lib/python3.7/dist-packages/google/colab/_message.py\u001b[0m in \u001b[0;36mread_reply_from_input\u001b[0;34m(message_id, timeout_sec)\u001b[0m\n\u001b[1;32m    104\u001b[0m         reply.get('colab_msg_id') == message_id):\n\u001b[1;32m    105\u001b[0m       \u001b[0;32mif\u001b[0m \u001b[0;34m'error'\u001b[0m \u001b[0;32min\u001b[0m \u001b[0mreply\u001b[0m\u001b[0;34m:\u001b[0m\u001b[0;34m\u001b[0m\u001b[0;34m\u001b[0m\u001b[0m\n\u001b[0;32m--> 106\u001b[0;31m         \u001b[0;32mraise\u001b[0m \u001b[0mMessageError\u001b[0m\u001b[0;34m(\u001b[0m\u001b[0mreply\u001b[0m\u001b[0;34m[\u001b[0m\u001b[0;34m'error'\u001b[0m\u001b[0;34m]\u001b[0m\u001b[0;34m)\u001b[0m\u001b[0;34m\u001b[0m\u001b[0;34m\u001b[0m\u001b[0m\n\u001b[0m\u001b[1;32m    107\u001b[0m       \u001b[0;32mreturn\u001b[0m \u001b[0mreply\u001b[0m\u001b[0;34m.\u001b[0m\u001b[0mget\u001b[0m\u001b[0;34m(\u001b[0m\u001b[0;34m'data'\u001b[0m\u001b[0;34m,\u001b[0m \u001b[0;32mNone\u001b[0m\u001b[0;34m)\u001b[0m\u001b[0;34m\u001b[0m\u001b[0;34m\u001b[0m\u001b[0m\n\u001b[1;32m    108\u001b[0m \u001b[0;34m\u001b[0m\u001b[0m\n",
            "\u001b[0;31mMessageError\u001b[0m: Error: credential propagation was unsuccessful"
          ]
        }
      ]
    },
    {
      "cell_type": "markdown",
      "source": [
        "# New Section"
      ],
      "metadata": {
        "id": "EVWnx9Z1hHYT"
      }
    },
    {
      "cell_type": "code",
      "source": [
        "#Probs wont need this at all\n",
        "!pip install labelImg"
      ],
      "metadata": {
        "id": "HYtc7rRsMYwg"
      },
      "execution_count": null,
      "outputs": []
    },
    {
      "cell_type": "code",
      "source": [
        "#Import everything\n",
        "\n",
        "import glob, os \n",
        "from skimage import io, transform\n",
        "import numpy as np \n",
        "import matplotlib.pyplot as plt\n",
        "%matplotlib inline\n",
        "from sklearn.model_selection import train_test_split\n",
        "import pandas as pd\n",
        "from sklearn.metrics import accuracy_score, confusion_matrix\n",
        "from keras.models import Sequential ##Might change this to Convolutional\n",
        "from keras.layers import Activation, Dropout, Flatten, Dense\n",
        "#from keras.optimizers import SGD, Adam\n",
        "from keras.utils.np_utils import to_categorical\n",
        "from keras.layers.convolutional import Convolution2D, MaxPooling2D, Convolution3D\n",
        "from keras.layers.convolutional import Conv2D\n",
        "from sklearn.preprocessing import scale\n",
        "from sklearn.metrics import confusion_matrix, classification_report\n",
        "plt.rcParams['axes.grid']=False\n",
        "import matplotlib as mpl\n",
        "mpl.rcParams['image.cmap'] = 'viridis'\n",
        "\n",
        "import matplotlib.pyplot as plt\n",
        "import numpy as np\n"
      ],
      "metadata": {
        "id": "hUfOl_e6xytJ"
      },
      "execution_count": null,
      "outputs": []
    },
    {
      "cell_type": "code",
      "source": [
        "\n",
        "\n",
        "img1= plt.imread('/content/drive/MyDrive/WormTracker/WormImgs/wormImgLowQ_181.jpg')\n",
        "img2= plt.imread('/content/drive/MyDrive/WormTracker/WormImgs/wormImgLowQ_182.jpg')\n",
        "\n",
        "def frame_compare(img1,img2,showImg=False):\n",
        "  #plt.imshow(img1)\n",
        "  #plt.imshow(img2)\n",
        "  #sum=img2-img1\n",
        "  sum= np.zeros(img2.shape)\n",
        "\n",
        "  rowLen=sum.shape[0]\n",
        "  colLen=sum.shape[1]\n",
        "\n",
        "  for pixelx in range(0,colLen):\n",
        "    for pixely in range(0,rowLen):\n",
        "      for pixelrgb in range(0,3):\n",
        "        if img2[pixely,pixelx,pixelrgb] >= img1[pixely,pixelx,pixelrgb]:\n",
        "          sum[pixely,pixelx,pixelrgb]= img2[pixely,pixelx,pixelrgb]-img1[pixely,pixelx,pixelrgb]\n",
        "        else:\n",
        "          sum[pixely,pixelx,pixelrgb]= img1[pixely,pixelx,pixelrgb]-img2[pixely,pixelx,pixelrgb]\n",
        "\n",
        "  ##print(img1[1:5,1:5])\n",
        "  #print(img2[1:5,1:5])\n",
        "  #print(sum[1:5,1:5])\n",
        "\n",
        "  #print(sum.shape[0])\n",
        "\n",
        "\n",
        "  dif_sens=40 #remove later\n",
        "  dif_sense= 10\n",
        "\n",
        "  motion_sensitivity=1.1 * 10\n",
        "\n",
        "  xavg=0\n",
        "  yavg=0\n",
        "\n",
        "\n",
        "  #for xx in range(0, sum.shape[1]):\n",
        "  # for yy in range(0, sum.shape[0]):\n",
        "  #   for zz in range(0, sum.shape[2]):\n",
        "  #     if sum[yy, xx, zz]<= dif_sens:\n",
        "  #        sum[yy,xx,zz]=0\n",
        "\n",
        "\n",
        "  #print(sum[0:10, 0:10])\n",
        "\n",
        "  difArray= np.zeros((sum.shape[0],sum.shape[1]))\n",
        "  #print(difArray.shape)\n",
        "  totPixelDif=0;\n",
        "  numNonZpixels=0\n",
        "  for pixelx in range(0,colLen):\n",
        "    for pixely in range(0,rowLen):\n",
        "      for pixelrgb in range(0,3):\n",
        "        chanPixelDif= sum[pixely,pixelx,pixelrgb]\n",
        "        totPixelDif = totPixelDif + chanPixelDif\n",
        "      if totPixelDif > dif_sense*3:\n",
        "        #print('hi')\n",
        "        difArray[pixely,pixelx]=totPixelDif\n",
        "      totPixelDif=0\n",
        "\n",
        "  #print(difArray)\n",
        "  difArray[:,:]= difArray[:,:]/3\n",
        "  #print(difArray)\n",
        "\n",
        "  #print(difArray)\n",
        "  weightTot=0\n",
        "  for pixelx in range(0,colLen):\n",
        "    for pixely in range(0,rowLen):\n",
        "      xavg=xavg + (difArray[pixely,pixelx]*pixelx)\n",
        "      yavg=yavg + (difArray[pixely,pixelx]*pixely)\n",
        "\n",
        "      weightTot= weightTot + difArray[pixely,pixelx]\n",
        "\n",
        "  if xavg>motion_sensitivity:\n",
        "    xavg=round(xavg/weightTot)\n",
        "    yavg=round(yavg/weightTot)\n",
        "    pos=[xavg, yavg]\n",
        "  else: #returns 00 if change below threshold\n",
        "    xavg=1\n",
        "    yavg=1\n",
        "    pos=[xavg, yavg]\n",
        "\n",
        "  size=3\n",
        "\n",
        "  #imshow\n",
        "  #print(difArray)\n",
        "  if showImg==True:\n",
        "    plt.subplot(2,2,1)\n",
        "    plt.imshow(sum)\n",
        "    plt.subplot(2,2,2)\n",
        "    plt.imshow(difArray)\n",
        "    plt.subplot(2,2,3)\n",
        "    difArrayMarked= difArray\n",
        "    #difArrayMarked[round(yavg-size):round(yavg+size), round(xavg-size):round(xavg+size)]= 1000000\n",
        "    plt.imshow(difArrayMarked)\n",
        "    print(xavg,yavg)\n",
        "    plt.scatter(xavg,yavg)\n",
        "    plt.subplot(2,2,4)\n",
        "    plt.imshow(img2)\n",
        "\n",
        "  plt.subplot(1,1,1)\n",
        "  plt.imshow(img2)\n",
        "  plt.scatter(xavg,yavg)\n",
        "\n",
        "  return pos\n"
      ],
      "metadata": {
        "id": "GN809ulOAhTE",
        "colab": {
          "base_uri": "https://localhost:8080/",
          "height": 240
        },
        "outputId": "09bb04a0-df8b-422a-9780-2b9c953568ec"
      },
      "execution_count": 4,
      "outputs": [
        {
          "output_type": "error",
          "ename": "NameError",
          "evalue": "ignored",
          "traceback": [
            "\u001b[0;31m---------------------------------------------------------------------------\u001b[0m",
            "\u001b[0;31mNameError\u001b[0m                                 Traceback (most recent call last)",
            "\u001b[0;32m<ipython-input-4-9db17903772d>\u001b[0m in \u001b[0;36m<module>\u001b[0;34m()\u001b[0m\n\u001b[1;32m      1\u001b[0m \u001b[0;34m\u001b[0m\u001b[0m\n\u001b[1;32m      2\u001b[0m \u001b[0;34m\u001b[0m\u001b[0m\n\u001b[0;32m----> 3\u001b[0;31m \u001b[0mimg1\u001b[0m\u001b[0;34m=\u001b[0m \u001b[0mplt\u001b[0m\u001b[0;34m.\u001b[0m\u001b[0mimread\u001b[0m\u001b[0;34m(\u001b[0m\u001b[0;34m'/content/drive/MyDrive/WormTracker/WormImgs/wormImgLowQ_181.jpg'\u001b[0m\u001b[0;34m)\u001b[0m\u001b[0;34m\u001b[0m\u001b[0;34m\u001b[0m\u001b[0m\n\u001b[0m\u001b[1;32m      4\u001b[0m \u001b[0mimg2\u001b[0m\u001b[0;34m=\u001b[0m \u001b[0mplt\u001b[0m\u001b[0;34m.\u001b[0m\u001b[0mimread\u001b[0m\u001b[0;34m(\u001b[0m\u001b[0;34m'/content/drive/MyDrive/WormTracker/WormImgs/wormImgLowQ_182.jpg'\u001b[0m\u001b[0;34m)\u001b[0m\u001b[0;34m\u001b[0m\u001b[0;34m\u001b[0m\u001b[0m\n\u001b[1;32m      5\u001b[0m \u001b[0;34m\u001b[0m\u001b[0m\n",
            "\u001b[0;31mNameError\u001b[0m: name 'plt' is not defined"
          ]
        }
      ]
    },
    {
      "cell_type": "code",
      "source": [
        "a=np.array([5,5,5])\n",
        "b=np.array([6,2,2])\n",
        "c=a-b\n",
        "print(c)\n",
        "print(img1.shape)"
      ],
      "metadata": {
        "colab": {
          "base_uri": "https://localhost:8080/"
        },
        "id": "fN-a900pxOed",
        "outputId": "273226dd-cbd8-4def-d71e-9ae5468ad9c1"
      },
      "execution_count": null,
      "outputs": [
        {
          "output_type": "stream",
          "name": "stdout",
          "text": [
            "[-1  3  3]\n",
            "(400, 512, 3)\n"
          ]
        }
      ]
    },
    {
      "cell_type": "code",
      "source": [
        "def dataset(file_list, flattened=False): #,size=(300,180)\n",
        "\tdata = []\n",
        "\tfor i, file in enumerate(file_list):\n",
        "\t\timage = io.imread(file)\n",
        "\t\t#image = transform.resize(image, size, mode='constant')\n",
        "\t\tif flattened:\n",
        "\t\t\timage = image.flatten()\n",
        "\n",
        "\t\tdata.append(image)\n",
        "\n",
        "\t#labels = [1 if f.split(\"/\")[-1][0] == 'P' else 0 for f in file_list]\n",
        "\n",
        "\treturn np.array(data)#, np.array(labels)\n"
      ],
      "metadata": {
        "id": "6hJJRvTz0l0P"
      },
      "execution_count": null,
      "outputs": []
    },
    {
      "cell_type": "code",
      "source": [
        "#loading list of images\n",
        "path=\"/content/drive/MyDrive/WormTracker/WormImgs/\" #path to image folder\n",
        "imlist = glob.glob(os.path.join(path, '*.jpg')) #pulls list of all files in folder\n",
        "print('Dataset contains {} images'.format(len(imlist))) #returns how many images in list\n",
        "listlen= len(imlist)\n",
        "\n",
        "print(imlist) #For some reason, glob pulls the files in a wrong order\n",
        "imlist.sort() #this sorts them alphabetically ASSUMES IMAGES ARE NUMBERED ALREADY/PROPERLY\n",
        "print(imlist)\n",
        "\n",
        "# Load the data. The same as pollen dataset read-skimage (May take a few seconds)\n",
        "#data,labels = dataset(imlist) \n",
        "data= dataset(imlist)\n",
        "data= np.array(data)\n",
        "#print(data)\n",
        "#this loads the images as a numpy ndarray with each image represented as matrix of pixel values"
      ],
      "metadata": {
        "colab": {
          "base_uri": "https://localhost:8080/",
          "height": 258
        },
        "id": "16_cde0yxeqX",
        "outputId": "746c2d73-45b2-4f95-bce7-d8b7c29a7851"
      },
      "execution_count": 3,
      "outputs": [
        {
          "output_type": "error",
          "ename": "NameError",
          "evalue": "ignored",
          "traceback": [
            "\u001b[0;31m---------------------------------------------------------------------------\u001b[0m",
            "\u001b[0;31mNameError\u001b[0m                                 Traceback (most recent call last)",
            "\u001b[0;32m<ipython-input-3-7a1e196a36cd>\u001b[0m in \u001b[0;36m<module>\u001b[0;34m()\u001b[0m\n\u001b[1;32m      1\u001b[0m \u001b[0;31m#loading list of images\u001b[0m\u001b[0;34m\u001b[0m\u001b[0;34m\u001b[0m\u001b[0;34m\u001b[0m\u001b[0m\n\u001b[1;32m      2\u001b[0m \u001b[0mpath\u001b[0m\u001b[0;34m=\u001b[0m\u001b[0;34m\"/content/drive/MyDrive/WormTracker/WormImgs/\"\u001b[0m \u001b[0;31m#path to image folder\u001b[0m\u001b[0;34m\u001b[0m\u001b[0;34m\u001b[0m\u001b[0m\n\u001b[0;32m----> 3\u001b[0;31m \u001b[0mimlist\u001b[0m \u001b[0;34m=\u001b[0m \u001b[0mglob\u001b[0m\u001b[0;34m.\u001b[0m\u001b[0mglob\u001b[0m\u001b[0;34m(\u001b[0m\u001b[0mos\u001b[0m\u001b[0;34m.\u001b[0m\u001b[0mpath\u001b[0m\u001b[0;34m.\u001b[0m\u001b[0mjoin\u001b[0m\u001b[0;34m(\u001b[0m\u001b[0mpath\u001b[0m\u001b[0;34m,\u001b[0m \u001b[0;34m'*.jpg'\u001b[0m\u001b[0;34m)\u001b[0m\u001b[0;34m)\u001b[0m \u001b[0;31m#pulls list of all files in folder\u001b[0m\u001b[0;34m\u001b[0m\u001b[0;34m\u001b[0m\u001b[0m\n\u001b[0m\u001b[1;32m      4\u001b[0m \u001b[0mprint\u001b[0m\u001b[0;34m(\u001b[0m\u001b[0;34m'Dataset contains {} images'\u001b[0m\u001b[0;34m.\u001b[0m\u001b[0mformat\u001b[0m\u001b[0;34m(\u001b[0m\u001b[0mlen\u001b[0m\u001b[0;34m(\u001b[0m\u001b[0mimlist\u001b[0m\u001b[0;34m)\u001b[0m\u001b[0;34m)\u001b[0m\u001b[0;34m)\u001b[0m \u001b[0;31m#returns how many images in list\u001b[0m\u001b[0;34m\u001b[0m\u001b[0;34m\u001b[0m\u001b[0m\n\u001b[1;32m      5\u001b[0m \u001b[0mlistlen\u001b[0m\u001b[0;34m=\u001b[0m \u001b[0mlen\u001b[0m\u001b[0;34m(\u001b[0m\u001b[0mimlist\u001b[0m\u001b[0;34m)\u001b[0m\u001b[0;34m\u001b[0m\u001b[0;34m\u001b[0m\u001b[0m\n",
            "\u001b[0;31mNameError\u001b[0m: name 'glob' is not defined"
          ]
        }
      ]
    },
    {
      "cell_type": "code",
      "source": [
        "#print(img1)\n",
        "print(data.shape)"
      ],
      "metadata": {
        "id": "VgIKxiWd1SsM",
        "colab": {
          "base_uri": "https://localhost:8080/",
          "height": 186
        },
        "outputId": "863809ef-df51-4aff-97a2-75782118c082"
      },
      "execution_count": 2,
      "outputs": [
        {
          "output_type": "error",
          "ename": "NameError",
          "evalue": "ignored",
          "traceback": [
            "\u001b[0;31m---------------------------------------------------------------------------\u001b[0m",
            "\u001b[0;31mNameError\u001b[0m                                 Traceback (most recent call last)",
            "\u001b[0;32m<ipython-input-2-14200ebf44aa>\u001b[0m in \u001b[0;36m<module>\u001b[0;34m()\u001b[0m\n\u001b[1;32m      1\u001b[0m \u001b[0;31m#print(img1)\u001b[0m\u001b[0;34m\u001b[0m\u001b[0;34m\u001b[0m\u001b[0;34m\u001b[0m\u001b[0m\n\u001b[0;32m----> 2\u001b[0;31m \u001b[0mprint\u001b[0m\u001b[0;34m(\u001b[0m\u001b[0mdata\u001b[0m\u001b[0;34m.\u001b[0m\u001b[0mshape\u001b[0m\u001b[0;34m)\u001b[0m\u001b[0;34m\u001b[0m\u001b[0;34m\u001b[0m\u001b[0m\n\u001b[0m",
            "\u001b[0;31mNameError\u001b[0m: name 'data' is not defined"
          ]
        }
      ]
    },
    {
      "cell_type": "code",
      "source": [
        "stepSize=25\n",
        "#poslist= np.zeros((listlen-1, 2)) #x,y\n",
        "poslist= np.empty((0,2), int)\n",
        "\n",
        "\n",
        "for i in range(0,listlen-1,stepSize):\n",
        "  img1=data[i,:,:,:]\n",
        "  img2=data[i+1,:,:,:]\n",
        "\n",
        "  #frame_compare\n",
        "  pos=frame_compare(img1,img2)\n",
        "  print(pos)\n",
        "  \n",
        "  poslist= np.append(poslist,np.array([pos]),axis=0)\n",
        "  #All i want to do is add new paired x and y values to a new row... how is this\n",
        "  #so much to ask\n",
        "\n",
        "\n",
        "\n",
        "print(poslist)\n"
      ],
      "metadata": {
        "id": "kU2ns-Bc4-Gx"
      },
      "execution_count": null,
      "outputs": []
    },
    {
      "cell_type": "code",
      "source": [
        "plt.scatter(poslist[:,0],poslist[:,1] )\n",
        "plt.gca().invert_yaxis()\n",
        "plt.xlim([0, 512])\n",
        "plt.ylim([0,400])"
      ],
      "metadata": {
        "id": "lLq8Owpz4cRB"
      },
      "execution_count": null,
      "outputs": []
    },
    {
      "cell_type": "code",
      "source": [
        "def get_surround_image(img, xpos, ypos):\n",
        "  xlen=img.shape(0)\n",
        "\n",
        "\n",
        "\n",
        "\n"
      ],
      "metadata": {
        "id": "3lLdIHrXOY9M"
      },
      "execution_count": null,
      "outputs": []
    },
    {
      "cell_type": "code",
      "source": [
        "def pullSub(inImg, pos, outputSize):\n",
        "  if outputSize[0]>inImg.shape[0] or outputSize[1]>inImg.shape[1]:\n",
        "    return \"output bigger than image\"\n",
        "  xmin=int(pos[0]-(outputSize[0]/2))\n",
        "  xmax=int(pos[0]+(outputSize[0]/2))\n",
        "  ymin=int(pos[1]-(outputSize[1]/2))\n",
        "  ymax=int(pos[1]+(outputSize[1]/2))\n",
        "  if xmin<0:\n",
        "    xmin=0\n",
        "  if xmax>(inImg.shape[1]):\n",
        "    xmax=(inImg.shape[1]-1)\n",
        "  if ymin<0:\n",
        "    ymin=0\n",
        "  if ymax>(inImg.shape[0]):\n",
        "    ymax=(inImg.shape[0]-1)\n",
        "\n",
        "  subImg=inImg[ymin:ymax, xmin:xmax]\n",
        "\n",
        "  return subImg\n",
        "\n",
        "\n"
      ],
      "metadata": {
        "id": "TJcLLEvIR-HO"
      },
      "execution_count": null,
      "outputs": []
    },
    {
      "cell_type": "code",
      "source": [
        "img1= plt.imread('/content/drive/MyDrive/WormTracker/WormImgs/wormImgLowQ_187.jpg')\n",
        "img2= plt.imread('/content/drive/MyDrive/WormTracker/WormImgs/wormImgLowQ_188.jpg')\n",
        "pos1=frame_compare(img1,img2)\n",
        "plt.imshow(img1)\n"
      ],
      "metadata": {
        "id": "_qc3s4cCFhrf"
      },
      "execution_count": null,
      "outputs": []
    },
    {
      "cell_type": "code",
      "source": [
        "a= pullSub(img2, pos1, [64,64])\n",
        "plt.imshow(a)"
      ],
      "metadata": {
        "id": "mvtMGP6EGXM7"
      },
      "execution_count": null,
      "outputs": []
    },
    {
      "cell_type": "code",
      "source": [
        "\n",
        "data = '/content/drive/My Drive/WormTracker/WormImgs/'\n",
        "#ldseg=np.array(os.listdir(data))\n",
        "i = 1\n",
        "\n",
        "\n",
        "#loading list of images\n",
        "path=\"/content/drive/MyDrive/WormTracker/WormImgs/\" #path to image folder\n",
        "\n",
        "def numToIndex(n,numDigits):\n",
        "  out=''\n",
        "  num=str(n)\n",
        "  for i in range(0,numDigits-len(num)):\n",
        "    out= out+'0'\n",
        "  out= out+ num\n",
        "  return out\n",
        "\n",
        "def sort_rename(path,):\n",
        "  #Takes in a path to a file of numbered, sequential images\n",
        "  #renames all the files in the directory with '_*' sequential number from 1:n added\n",
        "\n",
        "  ldseg = glob.glob(os.path.join(path, '*.jpg')) #pulls list of all files in folder\n",
        "  print('Dataset contains {} images'.format(len(ldseg))) #returns how many images in list\n",
        "  listlen= len(ldseg)\n",
        "\n",
        "  print(ldseg) #For some reason, glob pulls the files in a wrong order\n",
        "  ldseg.sort() #this sorts them alphabetically ASSUMES IMAGES ARE NUMBERED ALREADY/PROPERLY\n",
        "  print(ldseg)\n",
        "\n",
        "  i=1\n",
        "  for filename in ldseg:\n",
        "    dst =  filename.split('_')[0] + '_' + numToIndex(i,4) + '.jpg' #removes original index marker after a \"_\"\n",
        "    print(dst)\n",
        "    print(filename)\n",
        "    src =filename\n",
        "    print(src)\n",
        "    print(dst)\n",
        "    os.rename(src, dst)\n",
        "    i += 1\n",
        "\n",
        "sort_rename(path)"
      ],
      "metadata": {
        "id": "Q-PuYoPaMT_t"
      },
      "execution_count": null,
      "outputs": []
    },
    {
      "cell_type": "code",
      "source": [
        "#JUST A LITTLE TEST BLOCK\n",
        "ldseg = glob.glob(os.path.join(path, '*.jpg')) #pulls list of all files in folder\n",
        "print('Dataset contains {} images'.format(len(ldseg))) #returns how many images in list\n",
        "listlen= len(ldseg)\n",
        "\n",
        "print(ldseg) #For some reason, glob pulls the files in a wrong order\n",
        "ldseg.sort() #this sorts them alphabetically ASSUMES IMAGES ARE NUMBERED ALREADY/PROPERLY\n",
        "print(ldseg)"
      ],
      "metadata": {
        "id": "Y5-u9jBdOVMM"
      },
      "execution_count": null,
      "outputs": []
    },
    {
      "cell_type": "markdown",
      "source": [
        "NOW THE NEURAL NETWORK:\n"
      ],
      "metadata": {
        "id": "QhRFnr9M4tFe"
      }
    },
    {
      "cell_type": "code",
      "source": [
        "# Create a training and testing dataset with 25% of the samples\n",
        "X_train, X_test, y_train, y_test = train_test_split(data,labels, test_size=.25,random_state=0,)\n",
        "#ids=np.array(range(data.shape[0]))\n",
        "#X_train, X_ids, y_train, y_ids = train_test_split(data,ids, test_size=.25,random_state=0,)\n",
        "#X_test=labels[X_ids]; y_test=labels[y_ids]"
      ],
      "metadata": {
        "id": "Whhxgiq76CpJ"
      },
      "execution_count": null,
      "outputs": []
    },
    {
      "cell_type": "code",
      "source": [
        "# check shape of the input image to fit with the network \n",
        "print(X_train.shape)\n",
        "print(X_test.shape)"
      ],
      "metadata": {
        "id": "6DWhGf-46BxY"
      },
      "execution_count": null,
      "outputs": []
    },
    {
      "cell_type": "code",
      "source": [
        "import skimage\n",
        "X_train_resized = np.asarray([skimage.transform.resize(image, (224,224)) for image in X_train])\n",
        "X_test_resized = np.asarray([skimage.transform.resize(image, (224,224)) for image in X_test])"
      ],
      "metadata": {
        "id": "HzUohCNl5jqH"
      },
      "execution_count": null,
      "outputs": []
    },
    {
      "cell_type": "code",
      "source": [
        "y_train_encoded = to_categorical(y_train)\n",
        "y_test_encoded = to_categorical(y_test)\n",
        "\n",
        "y_train_encoded.shape"
      ],
      "metadata": {
        "colab": {
          "base_uri": "https://localhost:8080/",
          "height": 222
        },
        "id": "XZ33bVFA5kXA",
        "outputId": "0b6342db-bad2-4cc6-f8f9-415b9332def2"
      },
      "execution_count": 1,
      "outputs": [
        {
          "output_type": "error",
          "ename": "NameError",
          "evalue": "ignored",
          "traceback": [
            "\u001b[0;31m---------------------------------------------------------------------------\u001b[0m",
            "\u001b[0;31mNameError\u001b[0m                                 Traceback (most recent call last)",
            "\u001b[0;32m<ipython-input-1-1f6d4fc9a53d>\u001b[0m in \u001b[0;36m<module>\u001b[0;34m()\u001b[0m\n\u001b[0;32m----> 1\u001b[0;31m \u001b[0my_train_encoded\u001b[0m \u001b[0;34m=\u001b[0m \u001b[0mto_categorical\u001b[0m\u001b[0;34m(\u001b[0m\u001b[0my_train\u001b[0m\u001b[0;34m)\u001b[0m\u001b[0;34m\u001b[0m\u001b[0;34m\u001b[0m\u001b[0m\n\u001b[0m\u001b[1;32m      2\u001b[0m \u001b[0my_test_encoded\u001b[0m \u001b[0;34m=\u001b[0m \u001b[0mto_categorical\u001b[0m\u001b[0;34m(\u001b[0m\u001b[0my_test\u001b[0m\u001b[0;34m)\u001b[0m\u001b[0;34m\u001b[0m\u001b[0;34m\u001b[0m\u001b[0m\n\u001b[1;32m      3\u001b[0m \u001b[0;34m\u001b[0m\u001b[0m\n\u001b[1;32m      4\u001b[0m \u001b[0my_train_encoded\u001b[0m\u001b[0;34m.\u001b[0m\u001b[0mshape\u001b[0m\u001b[0;34m\u001b[0m\u001b[0;34m\u001b[0m\u001b[0m\n",
            "\u001b[0;31mNameError\u001b[0m: name 'to_categorical' is not defined"
          ]
        }
      ]
    },
    {
      "cell_type": "code",
      "source": [
        "import numpy as np\n",
        "import os\n",
        "import cv2\n",
        "from sklearn.model_selection import train_test_split\n",
        "import tensorflow as tf\n",
        "from tensorflow import keras\n",
        "from tensorflow.keras import backend as K\n",
        "from tensorflow.keras.layers import Dense, Activation,Dropout,Conv2D, MaxPooling2D,BatchNormalization, Flatten\n",
        "from tensorflow.keras.optimizers import Adam\n",
        "from tensorflow.keras.metrics import categorical_crossentropy\n",
        "from tensorflow.keras import regularizers\n",
        "from tensorflow.keras.preprocessing.image import ImageDataGenerator, array_to_img, img_to_array, load_img\n",
        "from tensorflow.keras.applications import imagenet_utils\n",
        "from tensorflow.keras.preprocessing import image\n",
        "from tensorflow.keras.models import Model, load_model, Sequential\n",
        "from tensorflow.keras.utils import to_categorical\n",
        "import matplotlib.pyplot as plt\n",
        "import time\n",
        "import os\n",
        "\n",
        "\n",
        "train_gen=ImageDataGenerator(preprocessing_function=keras.applications.mobilenet.preprocess_input,\n",
        "                horizontal_flip=True,\n",
        "                samplewise_center=True,\n",
        "                width_shift_range=.2,\n",
        "                height_shift_range=.2,                \n",
        "                samplewise_std_normalization=True).flow(X_train_resized, y_train_encoded)\n",
        "#val_gen=ImageDataGenerator(preprocessing_function=keras.applications.mobilenet.preprocess_input,\n",
        "#                samplewise_center=True,                \n",
        "#                samplewise_std_normalization=True).flow(xValid, yValid, shuffle=False)        \n",
        "test_gen=ImageDataGenerator(preprocessing_function=keras.applications.mobilenet.preprocess_input,\n",
        "                samplewise_center=True,                \n",
        "                samplewise_std_normalization=True).flow(X_test_resized, y_test_encoded, shuffle=False)"
      ],
      "metadata": {
        "id": "9zVzQrXG47kR"
      },
      "execution_count": null,
      "outputs": []
    },
    {
      "cell_type": "code",
      "source": [
        "Top=False\n",
        "weights=None\n",
        "layer_cut=-6\n",
        "lr_rate=.001\n",
        "rand_seed=128\n",
        "epochs=25\n",
        "mobile = tf.keras.applications.mobilenet.MobileNet( include_top=Top,\n",
        "                                                           input_shape=(224,224,3),\n",
        "                                                           pooling='avg', weights='imagenet',\n",
        "                                                          )  \n",
        "                 \n",
        "x=mobile.layers[layer_cut].output\n",
        "x = Flatten()(x)\n",
        "x=Dense(128, kernel_regularizer = regularizers.l2(l = 0.015), activation='relu')(x)\n",
        "\n",
        "x=Dropout(rate=.5, seed=rand_seed)(x)\n",
        "predictions=Dense (2, activation='softmax')(x)\n",
        "model = Model(inputs=mobile.input, outputs=predictions)\n",
        "        \n",
        "for layer in model.layers:\n",
        "    layer.trainable=True\n",
        "model.compile(Adam(lr=lr_rate), loss='categorical_crossentropy', metrics=['accuracy'])"
      ],
      "metadata": {
        "id": "zCNxuWww5RCW"
      },
      "execution_count": null,
      "outputs": []
    }
  ]
}